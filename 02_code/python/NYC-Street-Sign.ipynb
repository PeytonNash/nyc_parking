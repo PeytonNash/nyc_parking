{
 "cells": [
  {
   "cell_type": "markdown",
   "metadata": {},
   "source": [
    "## Setup"
   ]
  },
  {
   "cell_type": "code",
   "execution_count": 1,
   "metadata": {},
   "outputs": [],
   "source": [
    "# Standard modules\n",
    "import pandas as pd\n",
    "import numpy as np\n",
    "import time\n",
    "from datetime import datetime\n",
    "import thefuzz\n",
    "from thefuzz import process\n",
    "\n",
    "import geopandas as gpd\n",
    "import geopy as gp\n",
    "import shapely as shp\n",
    "from shapely.geometry import LineString\n",
    "import pyproj # Used to convert coordinate projections\n",
    "\n",
    "from sqlalchemy import create_engine, text\n",
    "from os import environ\n",
    "import mysql.connector"
   ]
  },
  {
   "attachments": {},
   "cell_type": "markdown",
   "metadata": {},
   "source": [
    "## Roadbed processing"
   ]
  },
  {
   "attachments": {},
   "cell_type": "markdown",
   "metadata": {},
   "source": [
    "### Read in Data"
   ]
  },
  {
   "cell_type": "code",
   "execution_count": 3,
   "metadata": {},
   "outputs": [],
   "source": [
    "# File name\n",
    "directory = environ.get(\"directory\")\n",
    "\n",
    "roadbed_file = f\"{directory}01_data/NYC Street Centerline (CSCL)/geo_export_15a738be-7dbc-4a0f-826d-9bd8517b040a.shp\"\n",
    "\n",
    "# Read in the shape file\n",
    "rdGDF = gpd.read_file(roadbed_file)\n",
    "\n",
    "# Project the geometry to a distance based CRS (measured in feet)\n",
    "rdGDF = rdGDF.to_crs(2263)"
   ]
  },
  {
   "attachments": {},
   "cell_type": "markdown",
   "metadata": {},
   "source": [
    "### Edit street names to merge with sign data"
   ]
  },
  {
   "cell_type": "code",
   "execution_count": 11,
   "metadata": {},
   "outputs": [],
   "source": [
    "# Replace frequent errors in street name strings\n",
    "## Create dictionary to replace values in listed columns\n",
    "replDict = {'AVENUE':'AVE', \n",
    "            'STREET':'ST', \n",
    "            'PLACE':'PL', \n",
    "            'COURT':'CT', \n",
    "            'ROAD':'RD', \n",
    "            'DRIVE':'DR', \n",
    "            'LANE':'LN', \n",
    "            'TERRACE':'TER', \n",
    "            'HIGHWAY':'HWY',\n",
    "            'PARKWAY':'PKWY', \n",
    "            'BOULEVARD':'BLVD', \n",
    "            'TURNPIKE':'TPKE', \n",
    "            'EXPRESSWAY':'EXPY', \n",
    "            'SQUARE':'SQ', \n",
    "            'CIRCLE':'CIR'}\n",
    "\n",
    "## Create a regular expression pattern to match whole words\n",
    "for error, replacement in replDict.items():\n",
    "    pattern = r'\\b{}\\b'.format(error)\n",
    "    rdGDF['full_stree'] = rdGDF['full_stree'].replace(pattern, replacement, regex=True)\n",
    "\n",
    "# Create a borough name variable\n",
    "rdGDF['boroname'] = rdGDF['borocode'].map({'1':'Manhattan', '2':'Bronx', '3':'Brooklyn', '4':'Queens', '5':'Staten Island'})\n"
   ]
  },
  {
   "attachments": {},
   "cell_type": "markdown",
   "metadata": {},
   "source": [
    "### Create offset lines to represent each curb"
   ]
  },
  {
   "cell_type": "code",
   "execution_count": 13,
   "metadata": {},
   "outputs": [],
   "source": [
    "# Create a function to produce the offset LineStrings that represent each curb\n",
    "def create_parallel_lines(line, street_width, side):\n",
    "    distance = street_width\n",
    "    curb = line.parallel_offset(distance, side)\n",
    "    return curb"
   ]
  },
  {
   "cell_type": "code",
   "execution_count": 15,
   "metadata": {},
   "outputs": [],
   "source": [
    "# Create curb geometry\n",
    "rdGDF['l_curb'] = rdGDF.apply(lambda row: create_parallel_lines(row['geometry'], row['st_width']/2, 'left'), axis=1)\n",
    "rdGDF['r_curb'] = rdGDF.apply(lambda row: create_parallel_lines(row['geometry'], row['st_width']/2, 'right'), axis=1)\n",
    "\n",
    "# Create WKT column for geometry\n",
    "rdGDF['geometry_wkt'] = rdGDF['geometry'].apply(lambda x: x.wkt)\n",
    "rdGDF['l_curb_wkt'] = rdGDF['l_curb'].apply(lambda x: x.wkt)\n",
    "rdGDF['r_curb_wkt'] = rdGDF['r_curb'].apply(lambda x: x.wkt)"
   ]
  },
  {
   "cell_type": "code",
   "execution_count": 17,
   "metadata": {},
   "outputs": [],
   "source": [
    "# Create a gazetteer of unique street names in the roadbed data - will be used to fuzzy merge with street sign names\n",
    "rdUni = rdGDF[['full_stree', 'boroname']].drop_duplicates()\n",
    "\n",
    "# Create an in variable to identify records in the merge\n",
    "rdUni['in_rd'] = 1"
   ]
  },
  {
   "attachments": {},
   "cell_type": "markdown",
   "metadata": {},
   "source": [
    "## Street Sign Processing"
   ]
  },
  {
   "attachments": {},
   "cell_type": "markdown",
   "metadata": {},
   "source": [
    "### Read in Data"
   ]
  },
  {
   "cell_type": "code",
   "execution_count": 21,
   "metadata": {},
   "outputs": [],
   "source": [
    "# File name\n",
    "streetSigns_file = f'{directory}01_data/Parking_Regulation_Locations_and_Signs.csv'\n",
    "\n",
    "# Read in the street signs data\n",
    "streetSigns_df = pd.read_csv(streetSigns_file)\n",
    "\n",
    "streetSigns_gdf = gpd.GeoDataFrame(streetSigns_df, geometry=gpd.points_from_xy(streetSigns_df.sign_x_coord, streetSigns_df.sign_y_coord), crs=\"EPSG:2263\")"
   ]
  },
  {
   "attachments": {},
   "cell_type": "markdown",
   "metadata": {},
   "source": [
    "### Edit street names to merge with roadbed "
   ]
  },
  {
   "cell_type": "code",
   "execution_count": 29,
   "metadata": {},
   "outputs": [
    {
     "name": "stderr",
     "output_type": "stream",
     "text": [
      "<>:19: SyntaxWarning: invalid escape sequence '\\s'\n",
      "<>:19: SyntaxWarning: invalid escape sequence '\\s'\n",
      "/var/folders/mf/8c9q6j514k1_fgpgs5221sch0000gn/T/ipykernel_29413/254649931.py:19: SyntaxWarning: invalid escape sequence '\\s'\n",
      "  '\\s+':' '}\n"
     ]
    }
   ],
   "source": [
    "# Replace frequent errors in street name strings\n",
    "## Create dictionary to replace values in listed columns\n",
    "replDict = {'AVENUE':'AVE', \n",
    "            'STREET':'ST', \n",
    "            'PLACE':'PL', \n",
    "            'COURT':'CT', \n",
    "            'ROAD':'RD', \n",
    "            'DRIVE':'DR', \n",
    "            'LANE':' LN', \n",
    "            'TERRACE':'TER', \n",
    "            'HIGHWAY':'HWY',\n",
    "            'PARKWAY':'PKWY', \n",
    "            'BOULEVARD':'BLVD', \n",
    "            'TURNPIKE':'TPKE', \n",
    "            'EXPRESSWAY':'EXPY', \n",
    "            'SQUARE':'SQ', \n",
    "            'CIRCLE':'CIR',\n",
    "            'BEACH':'BCH',\n",
    "            '\\s+':' '}\n",
    "\n",
    "## Replace street type with abbreviation in 'on_street' column match the convention in the shapefile\n",
    "streetSigns_gdf['on_street'] = streetSigns_gdf['on_street'].replace(replDict, regex=True)"
   ]
  },
  {
   "attachments": {},
   "cell_type": "markdown",
   "metadata": {},
   "source": [
    "### Edit street names to match roadbed"
   ]
  },
  {
   "cell_type": "code",
   "execution_count": 31,
   "metadata": {},
   "outputs": [],
   "source": [
    "# Create a dataframe of unique street name/borough combinations to merge with the roadbed dataframe\n",
    "streetSignsUni = streetSigns_gdf[['on_street', 'borough']].drop_duplicates()\n",
    "\n",
    "streetSignsUni['in_sani'] = 1"
   ]
  },
  {
   "cell_type": "code",
   "execution_count": 33,
   "metadata": {},
   "outputs": [],
   "source": [
    "# Create a left join of the sanitation sign and roadbed street name/borough dataframes\n",
    "merge = streetSignsUni.merge(rdUni, how = 'left', left_on = ['on_street', 'borough'], right_on = ['full_stree', 'boroname'])\n",
    "\n",
    "# Remove observations that joined successfully with the roadbed street name/borough dataframe to make the fuzzy merge faster\n",
    "streetSigns_tofuzz = merge.loc[merge.in_rd != 1, ['on_street', 'borough']]\n",
    "\n",
    "# Create an empty DataFrame to store all of the borough level data\n",
    "streetSigns_xwalk = pd.DataFrame()\n",
    "\n",
    "# Create a loop to fuzzy merge the remaining street names by borough - limiting by borough creates five smaller Cartesian products, which results in fewer comparisons\n",
    "for b in streetSigns_tofuzz.borough.unique():\n",
    "    saniSigns_boro = streetSigns_tofuzz[streetSigns_tofuzz.borough == b].copy()\n",
    "    rd_boro = rdUni[rdUni.boroname == b]\n",
    "    saniSigns_boro.loc[:, 'full_stree'] = saniSigns_boro['on_street'].apply(lambda x: thefuzz.process.extractOne(x, rd_boro['full_stree'], scorer = thefuzz.fuzz.ratio)[0])\n",
    "    streetSigns_xwalk = pd.concat([streetSigns_xwalk, saniSigns_boro], ignore_index = True)\n",
    "\n",
    "# Append the street names that already had a perfect match in the roadbed data\n",
    "streetSigns_xwalk = pd.concat((streetSigns_xwalk, merge.loc[merge.in_rd == 1, ['on_street', 'borough', 'full_stree']]))"
   ]
  },
  {
   "cell_type": "code",
   "execution_count": 35,
   "metadata": {},
   "outputs": [],
   "source": [
    "# Merge the crosswalk to the signs GDF\n",
    "streetSignsGDF_names = streetSigns_gdf.merge(streetSigns_xwalk, how = 'outer', on = ['on_street', 'borough'])\n",
    "streetSignsGDF_names['geometry_wkt'] = streetSignsGDF_names['geometry'].apply(lambda x: x.wkt)\n",
    "streetSignsGDF_names = streetSignsGDF_names.where(pd.notnull(streetSignsGDF_names), None)"
   ]
  },
  {
   "attachments": {},
   "cell_type": "markdown",
   "metadata": {},
   "source": [
    "## Load data to tables"
   ]
  },
  {
   "cell_type": "code",
   "execution_count": 9,
   "metadata": {},
   "outputs": [],
   "source": [
    "# Create engine to load data to the table\n",
    "engine = environ.get(\"sqlalchemy_engine\")\n",
    "\n",
    "engine = create_engine(engine)"
   ]
  },
  {
   "cell_type": "code",
   "execution_count": null,
   "metadata": {},
   "outputs": [],
   "source": [
    "rdGDF.drop(columns = ['geometry', 'l_curb', 'r_curb']).to_sql('road_stg', con=engine, if_exists='replace', index=False, chunksize=1000)"
   ]
  },
  {
   "cell_type": "code",
   "execution_count": null,
   "metadata": {},
   "outputs": [],
   "source": [
    "streetSignsGDF_names.drop(columns = ['geometry']).to_sql('sign_stg', con=engine, if_exists='replace', index=False, chunksize=1000)"
   ]
  }
 ],
 "metadata": {
  "kernelspec": {
   "display_name": "Python 3 (ipykernel)",
   "language": "python",
   "name": "python3"
  },
  "language_info": {
   "codemirror_mode": {
    "name": "ipython",
    "version": 3
   },
   "file_extension": ".py",
   "mimetype": "text/x-python",
   "name": "python",
   "nbconvert_exporter": "python",
   "pygments_lexer": "ipython3",
   "version": "3.12.2"
  }
 },
 "nbformat": 4,
 "nbformat_minor": 4
}
