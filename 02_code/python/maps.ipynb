{
 "cells": [
  {
   "cell_type": "markdown",
   "metadata": {},
   "source": [
    "## Setup"
   ]
  },
  {
   "cell_type": "code",
   "execution_count": null,
   "metadata": {},
   "outputs": [],
   "source": [
    "# Standard modules\n",
    "import pandas as pd\n",
    "import numpy as np\n",
    "import time\n",
    "from datetime import datetime\n",
    "import thefuzz\n",
    "from thefuzz import process\n",
    "\n",
    "import geopandas as gpd\n",
    "import geopy as gp\n",
    "import shapely as shp\n",
    "from shapely import wkt\n",
    "from shapely.geometry import LineString\n",
    "import pyproj # Used to convert coordinate projections\n",
    "\n",
    "from sqlalchemy import create_engine, text\n",
    "from os import environ\n",
    "import mysql.connector\n",
    "\n",
    "import folium\n",
    "from folium.plugins import MarkerCluster"
   ]
  },
  {
   "cell_type": "code",
   "execution_count": null,
   "metadata": {},
   "outputs": [],
   "source": [
    "# Create engine\n",
    "engine = environ.get(\"sqlalchemy_engine\")\n",
    "\n",
    "engine = create_engine(engine)"
   ]
  },
  {
   "cell_type": "markdown",
   "metadata": {},
   "source": [
    "## Time Static Map\n",
    "### Data for Static Map"
   ]
  },
  {
   "cell_type": "code",
   "execution_count": 30,
   "metadata": {},
   "outputs": [],
   "source": [
    "# SQL query to get data\n",
    "query_static = '''WITH temp AS (\n",
    "SELECT\t\tDISTINCT curb_id\n",
    "FROM\t\tnyc_parking.block_sign bs\n",
    "LEFT JOIN\tnyc_parking.curb c\n",
    "ON\t\t\tbs.physicalid = c.physicalid AND\n",
    "\t\t\tbs.sign_side = c.curb_side\n",
    "LEFT JOIN\tnyc_parking.sign s\n",
    "ON\t\t\tbs.sign_id = s.sign_id\n",
    "LEFT JOIN\tnyc_parking.sign_description sd\n",
    "ON\t\t\ts.sign_code = sd.sign_code\n",
    "LEfT JOIN\tnyc_parking.restrict r\n",
    "ON\t\t\tsd.restrict_id = r.restrict_id \n",
    "GROUP BY\tcurb_id\n",
    "HAVING\t\tCOUNT(DISTINCT r.restrict_id) = 1 )\n",
    "\n",
    "SELECT\t\tDISTINCT ST_ASTEXT(c.geometry) AS geometry,\n",
    "\t\t\tr.*\n",
    "FROM\t\tnyc_parking.block_sign bs\n",
    "LEFT JOIN\tnyc_parking.curb c\n",
    "ON\t\t\tbs.physicalid = c.physicalid AND\n",
    "\t\t\tbs.sign_side = c.curb_side\n",
    "LEFT JOIN\tnyc_parking.sign s\n",
    "ON\t\t\tbs.sign_id = s.sign_id\n",
    "LEFT JOIN\tnyc_parking.sign_description sd\n",
    "ON\t\t\ts.sign_code = sd.sign_code\n",
    "LEfT JOIN\tnyc_parking.restrict r\n",
    "ON\t\t\tsd.restrict_id = r.restrict_id \n",
    "WHERE\t\tcurb_id IN (SELECT curb_id FROM temp) ;'''\n",
    "\n",
    "# Execute the query and load data into a DataFrame\n",
    "df_static = pd.read_sql(query_static, engine)\n",
    "\n",
    "# Set the geometry column\n",
    "df_static['geometry'] = df_static['geometry'].apply(wkt.loads)\n",
    "\n",
    "# Project the CRS to 4326 (latitude and longitude)\n",
    "gdf_static = gpd.GeoDataFrame(df_static, geometry='geometry', crs='EPSG:2263').to_crs(4326)\n",
    "\n",
    "# Calculate the number of hours after midnight the restriction begins and ends\n",
    "gdf_static['start_time_num'] = gdf_static['start_time'].dt.total_seconds()/3600\n",
    "gdf_static['end_time_num'] = gdf_static['end_time'].dt.total_seconds()/3600"
   ]
  },
  {
   "cell_type": "code",
   "execution_count": null,
   "metadata": {},
   "outputs": [],
   "source": [
    "# Separate GeoDataFrames by restriction color relative to 11:30 on Monday\n",
    "gdf_red     = gdf_static.loc[(gdf_static.start_time_num <= 11.5) & (gdf_static.end_time_num >= 11.5) & (gdf_static.monday == 1), 'geometry']\n",
    "gdf_yellow  = gdf_static.loc[(gdf_static.start_time_num - .5 <= 11.5) & (gdf_static.start_time_num > 11.5) & (gdf_static.monday == 1), 'geometry']\n",
    "gdf_green   = gdf_static.loc[(((gdf_static.start_time_num - .5 > 11.5) | (gdf_static.end_time_num < 11.5)) & (gdf_static.monday == 1)) | (gdf_static.monday == 0), 'geometry']"
   ]
  },
  {
   "cell_type": "markdown",
   "metadata": {},
   "source": [
    "### Static Map"
   ]
  },
  {
   "cell_type": "code",
   "execution_count": null,
   "metadata": {},
   "outputs": [
    {
     "data": {
      "text/plain": [
       "<folium.map.LayerControl at 0x167db9f10>"
      ]
     },
     "execution_count": 18,
     "metadata": {},
     "output_type": "execute_result"
    }
   ],
   "source": [
    "# Create map\n",
    "m_static = folium.Map(location=[40.67709461762126, -73.9386906766971], zoom_start=16)\n",
    "\n",
    "# Add GeoDataFrames to the map\n",
    "folium.GeoJson(gdf_red, name=\"Layer 1\", style_function=lambda x: {\"color\": \"red\"}).add_to(m_static)\n",
    "folium.GeoJson(gdf_yellow, name=\"Layer 2\", style_function=lambda x: {\"color\": \"yellow\"}).add_to(m_static)\n",
    "folium.GeoJson(gdf_green, name=\"Layer 3\", style_function=lambda x: {\"color\": \"green\"}).add_to(m_static)\n",
    "\n",
    "# Add layer control\n",
    "folium.LayerControl().add_to(m_static)\n"
   ]
  },
  {
   "cell_type": "code",
   "execution_count": 24,
   "metadata": {},
   "outputs": [],
   "source": [
    "# Save the map as html\n",
    "m_static.save('static.html')"
   ]
  },
  {
   "cell_type": "markdown",
   "metadata": {},
   "source": [
    "## Time Dynamic Map\n",
    "### Data for Dynamic Map"
   ]
  },
  {
   "cell_type": "code",
   "execution_count": null,
   "metadata": {},
   "outputs": [],
   "source": [
    "\n",
    "# Write your SQL query\n",
    "query = \"SELECT\t\tDISTINCT ST_ASTEXT(c.geometry) AS geometry, r.* FROM nyc_parking.block_sign bs LEFT JOIN nyc_parking.curb c ON bs.physicalid = c.physicalid AND bs.sign_side = c.curb_side LEFT JOIN nyc_parking.sign s ON bs.sign_id = s.sign_id LEFT JOIN\tnyc_parking.sign_description sd ON s.sign_code = sd.sign_code LEfT JOIN\tnyc_parking.restrict r ON sd.restrict_id = r.restrict_id WHERE bs.physicalid = 38533 ;\"\n",
    "\n",
    "# Execute the query and load data into a DataFrame\n",
    "df = pd.read_sql(query, engine)\n",
    "\n",
    "df['geometry'] = df['geometry'].apply(wkt.loads)\n",
    "\n",
    "gdf = gpd.GeoDataFrame(df, geometry='geometry', crs='EPSG:2263').to_crs(4326)"
   ]
  },
  {
   "cell_type": "markdown",
   "metadata": {},
   "source": [
    "### Dynamic Map"
   ]
  },
  {
   "cell_type": "code",
   "execution_count": 28,
   "metadata": {},
   "outputs": [
    {
     "data": {
      "text/plain": [
       "<folium.plugins.timestamped_geo_json.TimestampedGeoJson at 0x169e58680>"
      ]
     },
     "execution_count": 28,
     "metadata": {},
     "output_type": "execute_result"
    }
   ],
   "source": [
    "# Create map\n",
    "m_dynamic = folium.Map(location=[40.67709461762126, -73.9386906766971], zoom_start=24)\n",
    "\n",
    "# Create timestamped geojson\n",
    "lines = [\n",
    "    # North curb\n",
    "    {\n",
    "        \"coordinates\": [\n",
    "            [-73.9386906766971, 40.67709461762126], \n",
    "            [-73.93591915719765, 40.67693913714084],\n",
    "        ],\n",
    "        \"dates\": [\"2024-12-09T10:00:00\", \"2024-12-09T10:00:00\"],\n",
    "        \"color\": \"green\",\n",
    "    },\n",
    "    {\n",
    "        \"coordinates\": [\n",
    "            [-73.9386906766971, 40.67709461762126], \n",
    "            [-73.93591915719765, 40.67693913714084],\n",
    "        ],\n",
    "        \"dates\": [\"2024-12-09T10:00:00\", \"2024-12-09T11:00:00\"],\n",
    "        \"color\": \"yellow\",\n",
    "    },\n",
    "    {\n",
    "        \"coordinates\": [\n",
    "            [-73.9386906766971, 40.67709461762126], \n",
    "            [-73.93591915719765, 40.67693913714084],\n",
    "        ],\n",
    "        \"dates\": [\"2024-12-09T11:00:00\", \"2024-12-09T11:30:00\"],\n",
    "        \"color\": \"red\",\n",
    "    },\n",
    "    {\n",
    "        \"coordinates\": [\n",
    "            [-73.9386906766971, 40.67709461762126], \n",
    "            [-73.93591915719765, 40.67693913714084],\n",
    "        ],\n",
    "        \"dates\": [\"2024-12-09T11:30:00\", \"2024-12-09T13:00:00\"],\n",
    "        \"color\": \"green\",\n",
    "    },\n",
    "\n",
    "    # South curb\n",
    "        {\n",
    "        \"coordinates\": [\n",
    "            [-73.9359276370314, 40.67685154215516], \n",
    "            [-73.93869915201554, 40.67700702238247],\n",
    "        ],\n",
    "        \"dates\": [\"2024-12-09T10:00:00\", \"2024-12-09T10:00:00\"],\n",
    "        \"color\": \"green\",\n",
    "    },\n",
    "    {\n",
    "        \"coordinates\": [\n",
    "            [-73.9359276370314, 40.67685154215516], \n",
    "            [-73.93869915201554, 40.67700702238247],\n",
    "        ],\n",
    "        \"dates\": [\"2024-12-09T10:00:00\", \"2024-12-10T11:00:00\"],\n",
    "        \"color\": \"yellow\",\n",
    "    },\n",
    "    {\n",
    "        \"coordinates\": [\n",
    "            [-73.9359276370314, 40.67685154215516], \n",
    "            [-73.93869915201554, 40.67700702238247],\n",
    "        ],\n",
    "        \"dates\": [\"2024-12-10T11:00:00\", \"2024-12-10T11:30:00\"],\n",
    "        \"color\": \"red\",\n",
    "    },\n",
    "    {\n",
    "        \"coordinates\": [\n",
    "            [-73.9359276370314, 40.67685154215516], \n",
    "            [-73.93869915201554, 40.67700702238247],\n",
    "        ],\n",
    "        \"dates\": [\"2024-12-10T11:30:00\", \"2024-12-10T13:00:00\"],\n",
    "        \"color\": \"green\",\n",
    "    },\n",
    "]\n",
    "\n",
    "# Specify design elements of the map\n",
    "features = [\n",
    "    {\n",
    "        \"type\": \"Feature\",\n",
    "        \"geometry\": {\n",
    "            \"type\": \"LineString\",\n",
    "            \"coordinates\": line[\"coordinates\"],\n",
    "        },\n",
    "        \"properties\": {\n",
    "            \"times\": line[\"dates\"],\n",
    "            \"style\": {\n",
    "                \"color\": line[\"color\"],\n",
    "                \"weight\": line[\"weight\"] if \"weight\" in line else 5,\n",
    "            },\n",
    "        },\n",
    "    }\n",
    "    for line in lines\n",
    "]\n",
    "\n",
    "# Add design elements to the map\n",
    "folium.plugins.TimestampedGeoJson(\n",
    "    {\n",
    "        \"type\": \"FeatureCollection\",\n",
    "        \"features\": features,\n",
    "    },\n",
    "    period=\"PT30M\",\n",
    "    add_last_point=True,\n",
    ").add_to(m_dynamic)"
   ]
  },
  {
   "cell_type": "code",
   "execution_count": null,
   "metadata": {},
   "outputs": [],
   "source": [
    "# Save the map as html\n",
    "m_dynamic.save('dynamic.html')"
   ]
  }
 ],
 "metadata": {
  "kernelspec": {
   "display_name": "base",
   "language": "python",
   "name": "python3"
  },
  "language_info": {
   "codemirror_mode": {
    "name": "ipython",
    "version": 3
   },
   "file_extension": ".py",
   "mimetype": "text/x-python",
   "name": "python",
   "nbconvert_exporter": "python",
   "pygments_lexer": "ipython3",
   "version": "3.12.2"
  }
 },
 "nbformat": 4,
 "nbformat_minor": 2
}
